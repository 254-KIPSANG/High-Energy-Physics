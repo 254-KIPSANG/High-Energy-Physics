{
 "cells": [
  {
   "cell_type": "markdown",
   "metadata": {},
   "source": [
    "pip install qrcode"
   ]
  },
  {
   "cell_type": "markdown",
   "metadata": {},
   "source": [
    "pip install Pillow\n"
   ]
  },
  {
   "cell_type": "markdown",
   "metadata": {},
   "source": [
    "pip install pyzbar"
   ]
  },
  {
   "cell_type": "code",
   "execution_count": 1,
   "metadata": {},
   "outputs": [
    {
     "name": "stderr",
     "output_type": "stream",
     "text": [
      "Exception in Tkinter callback\n",
      "Traceback (most recent call last):\n",
      "  File \"c:\\Users\\KALITOH\\anaconda3\\lib\\tkinter\\__init__.py\", line 1892, in __call__\n",
      "    return self.func(*args)\n",
      "  File \"C:\\Users\\KALITOH\\AppData\\Local\\Temp\\ipykernel_3160\\2520521294.py\", line 21, in encode_qr\n",
      "    with open(file_path, 'r') as f:\n",
      "FileNotFoundError: [Errno 2] No such file or directory: ''\n",
      "Exception in Tkinter callback\n",
      "Traceback (most recent call last):\n",
      "  File \"c:\\Users\\KALITOH\\anaconda3\\lib\\tkinter\\__init__.py\", line 1892, in __call__\n",
      "    return self.func(*args)\n",
      "  File \"C:\\Users\\KALITOH\\AppData\\Local\\Temp\\ipykernel_3160\\2520521294.py\", line 52, in decode_qr\n",
      "    with open(text_or_path, 'r') as f:\n",
      "OSError: [Errno 22] Invalid argument: 'https://wa.me/qr/DXD4FF2KF2HPI1'\n",
      "Exception in Tkinter callback\n",
      "Traceback (most recent call last):\n",
      "  File \"c:\\Users\\KALITOH\\anaconda3\\lib\\tkinter\\__init__.py\", line 1892, in __call__\n",
      "    return self.func(*args)\n",
      "  File \"C:\\Users\\KALITOH\\AppData\\Local\\Temp\\ipykernel_3160\\2520521294.py\", line 52, in decode_qr\n",
      "    with open(text_or_path, 'r') as f:\n",
      "OSError: [Errno 22] Invalid argument: 'https://wa.me/qr/DXD4FF2KF2HPI1'\n"
     ]
    },
    {
     "ename": "",
     "evalue": "",
     "output_type": "error",
     "traceback": [
      "\u001b[1;31mThe Kernel crashed while executing code in the the current cell or a previous cell. Please review the code in the cell(s) to identify a possible cause of the failure. Click <a href='https://aka.ms/vscodeJupyterKernelCrash'>here</a> for more info. View Jupyter <a href='command:jupyter.viewOutput'>log</a> for further details."
     ]
    }
   ],
   "source": [
    "import qrcode\n",
    "import tkinter as tk\n",
    "from tkinter import filedialog\n",
    "from PIL import Image\n",
    "import pyzbar.pyzbar as pyzbar\n",
    "\n",
    "# Create a function to encode text or image to a QR code\n",
    "def encode_qr():\n",
    "    # Get the text or image file path from the user\n",
    "    file_path = filedialog.askopenfilename()\n",
    "    \n",
    "    # Check if the selected file is an image or a text file\n",
    "    if file_path.endswith(('.jpg', '.jpeg', '.png', '.bmp')):\n",
    "        # If it's an image, create a QR code object with the image file path\n",
    "        qr = qrcode.QRCode(version=1, box_size=10, border=4)\n",
    "        qr.add_data(file_path)\n",
    "        qr.make(fit=True)\n",
    "        img = qr.make_image(fill='black', back_color='white')\n",
    "    else:\n",
    "        # If it's a text file, read the contents and create a QR code object with the text\n",
    "        with open(file_path, 'r') as f:\n",
    "            text = f.read()\n",
    "        qr = qrcode.QRCode(version=1, box_size=10, border=4)\n",
    "        qr.add_data(text)\n",
    "        qr.make(fit=True)\n",
    "        img = qr.make_image(fill='black', back_color='white')\n",
    "\n",
    "    # Display the QR code image in the GUI\n",
    "    img.save(\"qr_code.png\")\n",
    "    img_show = Image.open(\"qr_code.png\")\n",
    "    img_show.show()\n",
    "\n",
    "# Create a function to decode the QR code\n",
    "def decode_qr():\n",
    "    # Open the QR code image\n",
    "    file_path = filedialog.askopenfilename()\n",
    "    img = Image.open(file_path)\n",
    "\n",
    "    # Decode the QR code using pyzbar\n",
    "    data = pyzbar.decode(img)\n",
    "\n",
    "    # Get the text or image file path from the decoded data\n",
    "    text_or_path = data[0].data.decode('utf-8')\n",
    "\n",
    "    # Check if the decoded data is an image or a text file\n",
    "    if text_or_path.endswith(('.jpg', '.jpeg', '.png', '.bmp')):\n",
    "        # If it's an image, display the image in the GUI\n",
    "        img = Image.open(text_or_path)\n",
    "        img.show()\n",
    "    else:\n",
    "        # If it's a text file, display the text in the GUI\n",
    "        with open(text_or_path, 'r') as f:\n",
    "            text = f.read()\n",
    "        result_label.config(text=text)\n",
    "\n",
    "# Create the GUI\n",
    "root = tk.Tk()\n",
    "root.title(\"Encoder/Decoder\")\n",
    "\n",
    "# Create the label and button to select text or image file to encode\n",
    "entry_label = tk.Label(root, text=\"Select file to encode:\")\n",
    "entry_label.pack()\n",
    "encode_button = tk.Button(root, text=\"Encode\", command=encode_qr)\n",
    "encode_button.pack()\n",
    "\n",
    "# Create the button to decode the QR code\n",
    "decode_button = tk.Button(root, text=\"Decode\", command=decode_qr)\n",
    "decode_button.pack()\n",
    "\n",
    "# Create the label to display the decoded text or image\n",
    "result_label = tk.Label(root)\n",
    "result_label.pack()\n",
    "\n",
    "# Start the GUI\n",
    "root.mainloop()\n"
   ]
  }
 ],
 "metadata": {
  "kernelspec": {
   "display_name": "base",
   "language": "python",
   "name": "python3"
  },
  "language_info": {
   "codemirror_mode": {
    "name": "ipython",
    "version": 3
   },
   "file_extension": ".py",
   "mimetype": "text/x-python",
   "name": "python",
   "nbconvert_exporter": "python",
   "pygments_lexer": "ipython3",
   "version": "3.9.13"
  },
  "orig_nbformat": 4
 },
 "nbformat": 4,
 "nbformat_minor": 2
}
